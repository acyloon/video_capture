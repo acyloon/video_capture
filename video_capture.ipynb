{
 "cells": [
  {
   "cell_type": "code",
   "execution_count": 4,
   "metadata": {},
   "outputs": [],
   "source": [
    "# OpenCV のインポート\n",
    "import cv2\n",
    "\n",
    "# VideoCaptureのインスタンスを作成する\n",
    "# 引数でカメラを選択できる\n",
    "cap = cv2.VideoCapture(0)\n",
    "\n",
    "while True:\n",
    "    # VideoCaptureから1フレーム読み込む\n",
    "    ret, frame = cap.read()\n",
    "    \n",
    "    # 1/2サイズに縮小\n",
    "    frame = cv2.resize(frame, (int(frame.shape[1]/2), int(frame.shape[0]/2)))\n",
    "    # 画像を表示\n",
    "    cv2.imshow('frame', frame)\n",
    "    \n",
    "    # キー入力を1ms待って,kが27(ESC)だったらbreakする\n",
    "    k = cv2.waitKey(1)\n",
    "    if k == 27:\n",
    "        break\n",
    "\n",
    "# キャプチャをリリースして，ウィンドウを全て閉じる\n",
    "cap.release()\n",
    "cv2.destroyAllWindows()\n"
   ]
  }
 ],
 "metadata": {
  "kernelspec": {
   "display_name": "Python 3",
   "language": "python",
   "name": "python3"
  },
  "language_info": {
   "codemirror_mode": {
    "name": "ipython",
    "version": 3
   },
   "file_extension": ".py",
   "mimetype": "text/x-python",
   "name": "python",
   "nbconvert_exporter": "python",
   "pygments_lexer": "ipython3",
   "version": "3.6.4"
  }
 },
 "nbformat": 4,
 "nbformat_minor": 2
}
